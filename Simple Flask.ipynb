{
 "cells": [
  {
   "cell_type": "markdown",
   "metadata": {},
   "source": [
    "# What is Flask?\n",
    "Flask is a web framework for Python.\n",
    "There is another very popular web framework called Django (google \"flask vs django\").\n",
    "\n",
    "How does it work:\n",
    "there’ll be a Python script that imports the Flask module and when run, generally passes data to a HTML file. When the web page is loaded, it runs the Python code associated with that web page."
   ]
  },
  {
   "cell_type": "markdown",
   "metadata": {},
   "source": [
    "# 'Hello World' Example"
   ]
  },
  {
   "cell_type": "code",
   "execution_count": null,
   "metadata": {
    "collapsed": false
   },
   "outputs": [],
   "source": [
    "from flask import Flask, jsonify\n",
    "\n",
    "app = Flask(__name__)\n",
    "\n",
    "@app.route('/')  # the route. Connected to the adjacent function.\n",
    "def index():  # Name is not important. Convention is name of route.\n",
    "    return 'Hello world!'  # The data to be returned to the browser.\n",
    "\n",
    "app.run()"
   ]
  },
  {
   "cell_type": "markdown",
   "metadata": {},
   "source": [
    "# Routing"
   ]
  },
  {
   "cell_type": "code",
   "execution_count": null,
   "metadata": {
    "collapsed": false
   },
   "outputs": [],
   "source": [
    "from flask import Flask, jsonify\n",
    "\n",
    "app = Flask(__name__)\n",
    "\n",
    "@app.route('/api')\n",
    "def api():\n",
    "    return 'This is the route of the API.'\n",
    "\n",
    "@app.route('/some_html')\n",
    "def some_html():\n",
    "    return '<h2>An HTML header!</h2>'\n",
    "\n",
    "@app.route('/json_test')\n",
    "def json_test():\n",
    "    return jsonify({'name': 'Rick', 'surname': 'Sanchez'})\n",
    "\n",
    "@app.route('/user/<username>')\n",
    "def user(username):\n",
    "    return \"hi, <b>{}</b>!\".format(username)\n",
    "\n",
    "@app.route('/post/<int:post_id>')\n",
    "def post(post_id):\n",
    "    return 'Post id: <b>{}</b>'.format(str(post_id))\n",
    "    \n",
    "\n",
    "\n",
    "app.run()"
   ]
  },
  {
   "cell_type": "markdown",
   "metadata": {},
   "source": [
    "# HTTP Methods"
   ]
  },
  {
   "cell_type": "code",
   "execution_count": null,
   "metadata": {
    "collapsed": false
   },
   "outputs": [],
   "source": [
    "from flask import Flask, request\n",
    "\n",
    "app = Flask(__name__)\n",
    "\n",
    "@app.route('/')\n",
    "def index():\n",
    "    return 'Method used: {}'.format(request.method)\n",
    "\n",
    "@app.route('/user', methods=['GET', 'POST'])  # This route can handle both GET and POST. \n",
    "def user():\n",
    "    if request.method == 'POST':\n",
    "        return \"You are using POST\"\n",
    "    else:\n",
    "        return \"You are using GET\"\n",
    "\n",
    "\n",
    "app.run()"
   ]
  },
  {
   "cell_type": "markdown",
   "metadata": {},
   "source": [
    "# HTML Templates and Static Files\n",
    "When you build a real-world web-application, there will be more files than just one python file: images, css, Javascript, HTMLs etc. Flask organizes them in your project.\n",
    "\n",
    "We create two subdirectories: `templates` and `static`, which "
   ]
  },
  {
   "cell_type": "markdown",
   "metadata": {},
   "source": [
    "## Templates\n",
    "A *template* is an HTML file that you can fill with data.\n",
    "When you build a real-world web-application, you would like to seperate the UI design from the functionality, and templates are the way to do it.\n",
    "\n",
    "For this example we create a file named `user.html` in the `templates` directory."
   ]
  },
  {
   "cell_type": "code",
   "execution_count": null,
   "metadata": {
    "collapsed": false
   },
   "outputs": [],
   "source": [
    "from flask import Flask, render_template\n",
    "\n",
    "app = Flask(__name__)\n",
    "\n",
    "@app.route('/users/<username>')\n",
    "def users(username):\n",
    "    return render_template('user.html', username=username)\n",
    "\n",
    "app.run()"
   ]
  },
  {
   "cell_type": "markdown",
   "metadata": {},
   "source": [
    "## Templates and Lists\n",
    "One can pass a more complex data to a template."
   ]
  },
  {
   "cell_type": "code",
   "execution_count": null,
   "metadata": {
    "collapsed": false
   },
   "outputs": [
    {
     "name": "stderr",
     "output_type": "stream",
     "text": [
      " * Running on http://127.0.0.1:5000/ (Press CTRL+C to quit)\n",
      "127.0.0.1 - - [20/Apr/2017 13:11:36] \"GET /shopping HTTP/1.1\" 200 -\n"
     ]
    }
   ],
   "source": [
    "from flask import Flask, render_template\n",
    "\n",
    "app = Flask(__name__)\n",
    "\n",
    "@app.route('/shopping')\n",
    "def shopping():\n",
    "    food = ['Cheese', 'Tuna', 'Beer', 'Diapers']\n",
    "    return render_template('shopping.html', food=food)\n",
    "\n",
    "app.run()"
   ]
  },
  {
   "cell_type": "markdown",
   "metadata": {},
   "source": [
    "## Static Files\n",
    "We will now see an example of using a css file, which is a static file.\n",
    "We create a file named `style.css` in the `static directory`.\n",
    "\n",
    "The code is the same as before, just we added a link to the css file."
   ]
  }
 ],
 "metadata": {
  "kernelspec": {
   "display_name": "Python 3",
   "language": "python",
   "name": "python3"
  },
  "language_info": {
   "codemirror_mode": {
    "name": "ipython",
    "version": 3
   },
   "file_extension": ".py",
   "mimetype": "text/x-python",
   "name": "python",
   "nbconvert_exporter": "python",
   "pygments_lexer": "ipython3",
   "version": "3.6.0"
  }
 },
 "nbformat": 4,
 "nbformat_minor": 2
}
