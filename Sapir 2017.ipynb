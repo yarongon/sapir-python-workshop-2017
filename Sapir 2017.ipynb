{
 "cells": [
  {
   "cell_type": "markdown",
   "metadata": {},
   "source": [
    "# Introduction to Python"
   ]
  },
  {
   "cell_type": "markdown",
   "metadata": {},
   "source": [
    "## Overview\n",
    "Was created in 1991 by Guido van Rossum, a dutch programmer.\n",
    "Its main feature, and what made it very popular, is a design philosophy which emphasizes code readability, and a syntax which allows programmers to express concepts in fewer lines of code than possible in languages.\n",
    "In other words, Python provides constructs intended to enable writing clear programs.\n",
    "\n",
    "Other features:\n",
    "- Its an interpreter\n",
    "- Dynamic typing\n",
    "- Multi paradigm\n",
    "- Multi platform\n",
    "- Open sourced\n",
    "- Blocks denoted in tabs"
   ]
  },
  {
   "cell_type": "markdown",
   "metadata": {},
   "source": [
    "## Installing\n",
    "Just go to https://www.python.org, and download the version for your OS.\n",
    "\n"
   ]
  },
  {
   "cell_type": "markdown",
   "metadata": {},
   "source": [
    "## Packages\n",
    "Python has **tons** of packages both internal and external.\n",
    "`pip` is the default package manager.\n",
    "Use `pip` to install packages.\n",
    "It will download and install them for you.\n",
    "\n",
    "To import packages and use them in a script:"
   ]
  },
  {
   "cell_type": "code",
   "execution_count": 2,
   "metadata": {
    "collapsed": true
   },
   "outputs": [],
   "source": [
    "import sys  # System module\n",
    "import os  # OS module\n",
    "from math import sqrt, ceil"
   ]
  },
  {
   "cell_type": "markdown",
   "metadata": {},
   "source": [
    "## Tools\n",
    "This text is written in a `Jupyter notebook`, which is an awesome tool for combining styled text with code. \n",
    "In the first part of the workshop, I'll use the `ipython` command shell, which has syntax highlighting and auto-completion features.\n",
    "In the second part I'll use PyCharm, which is a modern IDE for Python.\n",
    "It has a free community version, and the professional version is free for students."
   ]
  },
  {
   "cell_type": "markdown",
   "metadata": {},
   "source": [
    "## Hello World!"
   ]
  },
  {
   "cell_type": "code",
   "execution_count": 2,
   "metadata": {
    "collapsed": false
   },
   "outputs": [
    {
     "name": "stdout",
     "output_type": "stream",
     "text": [
      "Hello world!\n"
     ]
    }
   ],
   "source": [
    "# Simple \"Hello world!\"\n",
    "print(\"Hello world!\")"
   ]
  },
  {
   "cell_type": "markdown",
   "metadata": {},
   "source": [
    "## Variables and Types\n",
    "Python is a dynamic language, and variables do not need to be declared."
   ]
  },
  {
   "cell_type": "code",
   "execution_count": 11,
   "metadata": {
    "collapsed": true
   },
   "outputs": [],
   "source": [
    "first_name = \"Rick\"\n",
    "surname = \"Sanchez\""
   ]
  },
  {
   "cell_type": "markdown",
   "metadata": {},
   "source": [
    "### Data Types\n",
    "There are five main data types in Python:\n",
    "-  Numbers\n",
    "-  Strings\n",
    "-  Lists\n",
    "-  Tuples\n",
    "-  Dictionaries"
   ]
  },
  {
   "cell_type": "markdown",
   "metadata": {},
   "source": [
    "### Numbers and String"
   ]
  },
  {
   "cell_type": "code",
   "execution_count": 33,
   "metadata": {
    "collapsed": false
   },
   "outputs": [
    {
     "name": "stdout",
     "output_type": "stream",
     "text": [
      "45\n",
      "Let's get schwifty 👾 I wanna\n",
      "get schwifty in here 👽.\n"
     ]
    }
   ],
   "source": [
    "my_num = 15\n",
    "print(my_num * 3)\n",
    "\n",
    "# From Python 3, strings are always unicode.\n",
    "simple_str = \"Let's get schwifty 👾\"\n",
    "multi_line_str = '''I wanna\n",
    "get schwifty in here 👽.'''\n",
    "new_str = simple_str + \" \" + multi_line_str\n",
    "print(new_str)"
   ]
  },
  {
   "cell_type": "markdown",
   "metadata": {},
   "source": [
    "Strings can be formatted in various ways"
   ]
  },
  {
   "cell_type": "code",
   "execution_count": 12,
   "metadata": {
    "collapsed": false
   },
   "outputs": [
    {
     "name": "stdout",
     "output_type": "stream",
     "text": [
      "4 is an integer, and 3.140 is a float.\n",
      "4 is an integer, and 3.140 is a float.\n",
      "4 is an integer, and 3.140 is a float.\n",
      "4 is an integer, and 3.140 is a float.\n"
     ]
    }
   ],
   "source": [
    "x = 4\n",
    "y = 3.14\n",
    "\n",
    "print('%d is an integer, and %.3f is a float.' % (x, y))\n",
    "print('{:d} is an integer, and {:.3f} is a float.'.format(x, y))\n",
    "print('{int:d} is an integer, and {float:.3f} is a float.'.format(int=x, float=y))\n",
    "print(f'{x:d} is an integer, and {y:.3f} is a float.')  # notice the f mark.\n"
   ]
  },
  {
   "cell_type": "markdown",
   "metadata": {},
   "source": [
    "Some useful string functions"
   ]
  },
  {
   "cell_type": "code",
   "execution_count": 21,
   "metadata": {
    "collapsed": false
   },
   "outputs": [
    {
     "name": "stdout",
     "output_type": "stream",
     "text": [
      "Let's get schwifty\n",
      "6\n",
      "False\n",
      "[\"let's\", 'get', 'schwifty']\n"
     ]
    }
   ],
   "source": [
    "my_str = \"let's get schwifty\"\n",
    "print(my_str.capitalize())\n",
    "print(my_str.find('get'))\n",
    "print(my_str.isalpha())\n",
    "print(my_str.split(\" \"))"
   ]
  },
  {
   "cell_type": "markdown",
   "metadata": {},
   "source": [
    "### Lists"
   ]
  },
  {
   "cell_type": "code",
   "execution_count": 3,
   "metadata": {
    "collapsed": false,
    "scrolled": true
   },
   "outputs": [
    {
     "name": "stdout",
     "output_type": "stream",
     "text": [
      "First item is Juice\n",
      "First item is Eggs\n",
      "['Eggs', 'Milk']\n",
      "Last item is Potatoes\n",
      "[['Eggs', 'Milk', 'Tomatoes', 'Potatoes'], ['Rick and Morty', 'The Americans', 'TWD', 'GoT']]\n",
      "['Eggs', 'Milk', 'Tomatoes', 'Potatoes', 'Unions']\n",
      "['Eggs', 'Pickles', 'Milk', 'Tomatoes', 'Potatoes', 'Unions']\n",
      "['Eggs', 'Milk', 'Pickles', 'Potatoes', 'Tomatoes', 'Unions']\n",
      "6\n",
      "Unions\n"
     ]
    }
   ],
   "source": [
    "grocery_list = ['Juice', 'Milk', 'Tomatoes', 'Potatoes']\n",
    "print('First item is', grocery_list[0])\n",
    "grocery_list[0] = 'Eggs'\n",
    "print('First item is', grocery_list[0])\n",
    "print(grocery_list[0:2])\n",
    "\n",
    "print('Last item is', grocery_list[-1])  # A cool trick for getting the last item.\n",
    "\n",
    "tv_shows = ['Rick and Morty', 'The Americans', 'TWD', 'GoT']\n",
    "combined_lists = [grocery_list, tv_shows]\n",
    "print(combined_lists)\n",
    "\n",
    "grocery_list.append('Unions')\n",
    "print(grocery_list)\n",
    "\n",
    "grocery_list.insert(1, 'Pickles')\n",
    "print(grocery_list)\n",
    "\n",
    "grocery_list.sort()\n",
    "print(grocery_list)\n",
    "\n",
    "print(len(grocery_list))\n",
    "\n",
    "print(max(grocery_list))  # 'Max' by alphanumeric. We'll see later how do define the order\n"
   ]
  },
  {
   "cell_type": "markdown",
   "metadata": {},
   "source": [
    "#### Slicing\n",
    "An object for taking part of a list"
   ]
  },
  {
   "cell_type": "code",
   "execution_count": 4,
   "metadata": {
    "collapsed": false
   },
   "outputs": [
    {
     "name": "stdout",
     "output_type": "stream",
     "text": [
      "abcde\n",
      "fghijklmnopqrstuvwxyz\n",
      "adgjmpsvy\n",
      "zyxwvutsrqponmlkjihgfedcba\n",
      "kmoqsuwy\n"
     ]
    }
   ],
   "source": [
    "abcs = 'abcdefghijklmnopqrstuvwxyz'\n",
    "print(abcs[:5])\n",
    "print(abcs[5:])\n",
    "print(abcs[::3])\n",
    "print(abcs[::-1])\n",
    "print(abcs[10::2])"
   ]
  },
  {
   "cell_type": "code",
   "execution_count": 5,
   "metadata": {
    "collapsed": false
   },
   "outputs": [
    {
     "name": "stdout",
     "output_type": "stream",
     "text": [
      "0001\n",
      "Morty Smith \n",
      "M\n"
     ]
    }
   ],
   "source": [
    "record = \"0001 Morty Smith      M\"\n",
    "ID = slice(0,4)\n",
    "NAME = slice(5,17)\n",
    "GENDER = slice(22,23)\n",
    "print(record[ID])\n",
    "print(record[NAME])\n",
    "print(record[GENDER])"
   ]
  },
  {
   "cell_type": "markdown",
   "metadata": {
    "collapsed": true
   },
   "source": [
    "### Tuples\n",
    "Much like lists, but *immutable*."
   ]
  },
  {
   "cell_type": "code",
   "execution_count": 6,
   "metadata": {
    "collapsed": false
   },
   "outputs": [
    {
     "name": "stdout",
     "output_type": "stream",
     "text": [
      "5\n",
      "1\n"
     ]
    }
   ],
   "source": [
    "pi_tuple = (3,1,4,1,5)  # () are value constructures\n",
    "pi_tuple = tuple([3,1,4,1,5])  # Can be created from a list\n",
    "\n",
    "print(len(pi_tuple))\n",
    "print(min(pi_tuple))"
   ]
  },
  {
   "cell_type": "markdown",
   "metadata": {},
   "source": [
    "### Dictionaries\n",
    "A data structue that maps unique keys into values. Quite like <code>Map</code> in Java."
   ]
  },
  {
   "cell_type": "code",
   "execution_count": 7,
   "metadata": {
    "collapsed": false
   },
   "outputs": [
    {
     "name": "stdout",
     "output_type": "stream",
     "text": [
      "Leonard Snart\n",
      "dict_keys(['Fiddler', 'Captain Cold', 'Weather Wizard', 'Mirror Master'])\n"
     ]
    }
   ],
   "source": [
    "super_villains = {  # {} are value constructor\n",
    "    'Fiddler': 'Issac Bowin', \n",
    "    'Captain Cold': 'Leonard Snart',\n",
    "    'Weather Wizard': 'Mark Mardon',\n",
    "    'Mirror Master': 'Sam Scudder'\n",
    "}\n",
    "print(super_villains['Captain Cold'])\n",
    "\n",
    "super_villains['Fiddler'] = 'Peter Parker'  # Update value of a key.\n",
    "\n",
    "print(super_villains.keys())"
   ]
  },
  {
   "cell_type": "markdown",
   "metadata": {},
   "source": [
    "## Conditions\n",
    "We have <code>if</code>, <code>else</code> and <code>elif</code>.\n",
    "\n",
    "**Important:** body of <code>if</code> must be with indentation!"
   ]
  },
  {
   "cell_type": "code",
   "execution_count": 8,
   "metadata": {
    "collapsed": false
   },
   "outputs": [
    {
     "name": "stdout",
     "output_type": "stream",
     "text": [
      "You're old enough to drive\n"
     ]
    }
   ],
   "source": [
    "age = 29\n",
    "if age >= 18:\n",
    "    print(\"You're old enough to drive\")\n",
    "else:\n",
    "    print(\"You're NOT old enough to drive\")"
   ]
  },
  {
   "cell_type": "markdown",
   "metadata": {},
   "source": [
    "You can use <code>and, or, not</code> for the condition."
   ]
  },
  {
   "cell_type": "markdown",
   "metadata": {},
   "source": [
    "## Loopings"
   ]
  },
  {
   "cell_type": "code",
   "execution_count": 17,
   "metadata": {
    "collapsed": false
   },
   "outputs": [
    {
     "name": "stdout",
     "output_type": "stream",
     "text": [
      "0 1 2 3 4 5 6 7 8 9 "
     ]
    }
   ],
   "source": [
    "for x in range(0,10):\n",
    "    print(x, end=\" \")  # print in the same line"
   ]
  },
  {
   "cell_type": "code",
   "execution_count": 10,
   "metadata": {
    "collapsed": false
   },
   "outputs": [
    {
     "name": "stdout",
     "output_type": "stream",
     "text": [
      "Eggs\n",
      "Milk\n",
      "Pickles\n",
      "Potatoes\n",
      "Tomatoes\n",
      "Unions\n"
     ]
    }
   ],
   "source": [
    "for item in grocery_list:\n",
    "    print(item)"
   ]
  },
  {
   "cell_type": "code",
   "execution_count": 21,
   "metadata": {
    "collapsed": false
   },
   "outputs": [
    {
     "name": "stdout",
     "output_type": "stream",
     "text": [
      "3 is divisible by 3.\n",
      "6 is divisible by 3.\n",
      "9 is divisible by 3.\n"
     ]
    }
   ],
   "source": [
    "i=1\n",
    "while i <= 10:\n",
    "    if i%3 == 0:\n",
    "        print(f'{i} is divisible by 3.')\n",
    "    i += 1"
   ]
  },
  {
   "cell_type": "markdown",
   "metadata": {},
   "source": [
    "#### Example with Loops and Slices"
   ]
  },
  {
   "cell_type": "code",
   "execution_count": 23,
   "metadata": {
    "collapsed": false
   },
   "outputs": [
    {
     "name": "stdout",
     "output_type": "stream",
     "text": [
      "Jerry Smith     M         \n",
      "Summer Smith    F\n",
      "Rick Sanchez    M\n",
      "Morty Smith     M\n",
      "Beth Smith      F\n",
      " \n"
     ]
    }
   ],
   "source": [
    "r_and_m_characters = \"\"\"\n",
    "0.....6..............21.....28..\n",
    "001   Jerry Smith    Human  M         \n",
    "002   Summer Smith   Human  F\n",
    "003   Rick Sanchez   Human  M\n",
    "004   Morty Smith    Human  M\n",
    "005   Beth Smith     Human  F\n",
    "\"\"\"\n",
    "ID = slice(0,6)\n",
    "NAME = slice(6,21)\n",
    "SPECIES = slice(21,28)\n",
    "GENDER = slice(28, None)\n",
    "\n",
    "lines = r_and_m_characters.split('\\n')[2:]\n",
    "for character in lines:\n",
    "    print(character[NAME], character[GENDER])"
   ]
  },
  {
   "cell_type": "markdown",
   "metadata": {},
   "source": [
    "## Functions\n",
    "Functions are defined using the word <code>def</code>, after that the name of the function, and then the parameters. Functions should be defined before they are called."
   ]
  },
  {
   "cell_type": "code",
   "execution_count": 3,
   "metadata": {
    "collapsed": false
   },
   "outputs": [
    {
     "name": "stdout",
     "output_type": "stream",
     "text": [
      "720\n"
     ]
    }
   ],
   "source": [
    "def fact(n):\n",
    "    if n == 0:\n",
    "        return 1\n",
    "    else:\n",
    "        return n * fact(n-1)\n",
    "    \n",
    "print(fact(6))"
   ]
  },
  {
   "cell_type": "markdown",
   "metadata": {},
   "source": [
    "Functions are first-class citizens in Python, meaning that:\n",
    "- **Functions are objects**: they can be assigned to variables and passed to and returned from other functions; and\n",
    "- **Functions can be defined inside other functions**—and such a child function can capture the parent function’s local state (lexical closures.)"
   ]
  },
  {
   "cell_type": "code",
   "execution_count": 17,
   "metadata": {
    "collapsed": false
   },
   "outputs": [
    {
     "name": "stdout",
     "output_type": "stream",
     "text": [
      "720\n",
      "Hello!!!\n",
      "The result of fact applied on 10 is 3628800\n",
      "8\n"
     ]
    }
   ],
   "source": [
    "# functions are values\n",
    "my_fact = fact\n",
    "print(my_fact(6))\n",
    "\n",
    "# functions can be stored in arrays, dictionaries\n",
    "funcs = [my_fact, str.lower, str.capitalize]\n",
    "print(funcs[2](\"HELLO!!!\"))\n",
    "\n",
    "# Functions Can Be Passed To Other Functions\n",
    "def annotate(f, n):\n",
    "    res = f(n)\n",
    "    print(f\"The result of {f.__name__} applied on {n} is {res}\")\n",
    "    \n",
    "annotate(fact, 10)\n",
    "\n",
    "# Functions can return functions\n",
    "def make_add(n):\n",
    "    def add(m):\n",
    "        return m + n\n",
    "    return add\n",
    "    \n",
    "add3 = make_add(3)\n",
    "print(add3(5))\n",
    "    "
   ]
  },
  {
   "cell_type": "markdown",
   "metadata": {},
   "source": [
    "## Files I/O"
   ]
  },
  {
   "cell_type": "markdown",
   "metadata": {},
   "source": [
    "A simple open / write / read is as follows:"
   ]
  },
  {
   "cell_type": "code",
   "execution_count": 37,
   "metadata": {
    "collapsed": false
   },
   "outputs": [
    {
     "name": "stdout",
     "output_type": "stream",
     "text": [
      "🐍 Write me to the file.\n",
      "\n"
     ]
    }
   ],
   "source": [
    "file_write = open(\"test.txt\", \"w\")\n",
    "file_write.write(u\"🐍 Write me to the file.\\n\")\n",
    "file_write.close()\n",
    "\n",
    "file_read = open(\"test.txt\", 'r')\n",
    "text_from_file = file_read.read()\n",
    "print(text_from_file)\n",
    "\n",
    "os.remove(\"test.txt\")  # remember 'import os' ?"
   ]
  },
  {
   "cell_type": "markdown",
   "metadata": {},
   "source": [
    "## Generators\n",
    "This is (in my opinion) one of Python's great features.\n",
    "The idea is very simple: create lists one item after the other in a lazy way.\n",
    "We will start with an example: we want to find all the prime numbers between 2 and 100.\n",
    "First, we'll write a function to check if a number is prime."
   ]
  },
  {
   "cell_type": "code",
   "execution_count": 20,
   "metadata": {
    "collapsed": false
   },
   "outputs": [
    {
     "name": "stdout",
     "output_type": "stream",
     "text": [
      "False\n",
      "True\n"
     ]
    }
   ],
   "source": [
    "def is_prime(n):\n",
    "    for i in range(2, ceil(sqrt(n))):\n",
    "        if n % i == 0:\n",
    "            return False\n",
    "    return True\n",
    "\n",
    "print(is_prime(21))  # should be false\n",
    "print(is_prime(41))  # should be true"
   ]
  },
  {
   "cell_type": "markdown",
   "metadata": {},
   "source": [
    "Finally we complete the task:"
   ]
  },
  {
   "cell_type": "code",
   "execution_count": 62,
   "metadata": {
    "collapsed": false
   },
   "outputs": [
    {
     "name": "stdout",
     "output_type": "stream",
     "text": [
      "[2, 3, 4, 5, 7, 9, 11, 13, 17, 19, 23, 25, 29, 31, 37, 41, 43, 47, 49, 53, 59, 61, 67, 71, 73, 79, 83, 89, 97]\n"
     ]
    }
   ],
   "source": [
    "list_of_primes = []\n",
    "for n in range(2,100):\n",
    "    if is_prime(n):\n",
    "        list_of_primes.append(n)\n",
    "print(list_of_primes)"
   ]
  },
  {
   "cell_type": "markdown",
   "metadata": {},
   "source": [
    "Now, suppose we want only the first five prime numbers.\n",
    "We can do the following:"
   ]
  },
  {
   "cell_type": "code",
   "execution_count": 53,
   "metadata": {
    "collapsed": false
   },
   "outputs": [
    {
     "name": "stdout",
     "output_type": "stream",
     "text": [
      "[2, 3, 4, 5, 7]\n"
     ]
    }
   ],
   "source": [
    "print(list_of_primes[:5])"
   ]
  },
  {
   "cell_type": "markdown",
   "metadata": {},
   "source": [
    "But that means we calulated a lot of primes for nothing.\n",
    "We can of course stop the loop after 5 numbers, but that means adding a counter.\n",
    "Instead we can use **generators**."
   ]
  },
  {
   "cell_type": "code",
   "execution_count": 25,
   "metadata": {
    "collapsed": false
   },
   "outputs": [
    {
     "name": "stdout",
     "output_type": "stream",
     "text": [
      "0 1 2 3 4 5 \n",
      "0 1 2 3 4 "
     ]
    }
   ],
   "source": [
    "# primes is an infinite list of primes!\n",
    "def primes():\n",
    "    n = 0\n",
    "    while True:\n",
    "        if is_prime(n):\n",
    "            yield n\n",
    "        n += 1\n",
    "        \n",
    "# There are several ways to pick a finite items.\n",
    "for i,n in enumerate(primes()):\n",
    "    if i <= 5:\n",
    "        print(n, end=\" \")\n",
    "    else:\n",
    "        print()\n",
    "        break\n",
    "        \n",
    "# How about slices? of course! but a little differently.\n",
    "# This is not supported:\n",
    "#  primes()[1:5]\n",
    "import itertools\n",
    "top5 = itertools.islice(primes(), 5)\n",
    "for n in top5:\n",
    "    print(n, end=\" \")\n"
   ]
  },
  {
   "cell_type": "markdown",
   "metadata": {},
   "source": [
    "## Comprehensions"
   ]
  },
  {
   "cell_type": "markdown",
   "metadata": {},
   "source": [
    "### List Comprehension\n",
    "List comprehensions are a tool for transforming one list into another list.\n",
    "During this transformation, elements can be conditionally included in the new list and each element can be transformed as needed."
   ]
  },
  {
   "cell_type": "code",
   "execution_count": 58,
   "metadata": {
    "collapsed": false
   },
   "outputs": [
    {
     "name": "stdout",
     "output_type": "stream",
     "text": [
      "[1, 4, 9, 16, 25, 36]\n"
     ]
    }
   ],
   "source": [
    "my_list = [1,2,3,4,5,6]\n",
    "my_sqr_list = []\n",
    "for n in my_list:\n",
    "    my_sqr_list.append(n**2)\n",
    "print(my_sqr_list)"
   ]
  },
  {
   "cell_type": "code",
   "execution_count": 63,
   "metadata": {
    "collapsed": false
   },
   "outputs": [
    {
     "name": "stdout",
     "output_type": "stream",
     "text": [
      "[1, 4, 9, 16, 25, 36]\n"
     ]
    }
   ],
   "source": [
    "my_sqr_list = [n**2 for n in my_list]\n",
    "print(my_sqr_list)"
   ]
  },
  {
   "cell_type": "markdown",
   "metadata": {},
   "source": [
    "## Decorators\n",
    "Python’s decorators allow you to extend and modify the behavior of functions *without* permanently modifying the function itself.\n",
    "\n",
    "Any sufficiently generic functionality you can “tack on” to an existing function’s behavior makes a great use case for decoration. This includes:\n",
    "- logging,\n",
    "- enforcing access control and authentication,\n",
    "- instrumentation and timing functions,\n",
    "- rate-limiting,\n",
    "- caching; and more.\n",
    "- We'll use it in our next session 😁\n",
    "\n",
    "So, what are decorators exactly? They \"decorate\" or \"wrap\" another function and let you execute code before and after the wrapped function runs.\n",
    "The function’s behavior changes only when it’s decorated.\n",
    "\n",
    "Now what does the implementation of a simple decorator look like? In basic terms, a decorator is a function that takes a function as input and returns another function.\n",
    "\n",
    "Here's an example of a dead-simple decorator:"
   ]
  },
  {
   "cell_type": "code",
   "execution_count": 11,
   "metadata": {
    "collapsed": true
   },
   "outputs": [],
   "source": [
    "def null_decorator(f):\n",
    "    return f"
   ]
  },
  {
   "cell_type": "markdown",
   "metadata": {},
   "source": [
    "Now, let *decorate* (wrap) another function:"
   ]
  },
  {
   "cell_type": "code",
   "execution_count": 13,
   "metadata": {
    "collapsed": false
   },
   "outputs": [
    {
     "data": {
      "text/plain": [
       "'Hello!'"
      ]
     },
     "execution_count": 13,
     "metadata": {},
     "output_type": "execute_result"
    }
   ],
   "source": [
    "def greet():\n",
    "    return 'Hello!'\n",
    "\n",
    "greet = null_decorator(greet)\n",
    "\n",
    "greet()"
   ]
  },
  {
   "cell_type": "markdown",
   "metadata": {},
   "source": [
    "Instead of explicitly calling `null_decorator` on `greet` and then reassigning the `greet` variable, we can use Python’s @ syntax for decorating a function in one step:"
   ]
  },
  {
   "cell_type": "code",
   "execution_count": 15,
   "metadata": {
    "collapsed": false
   },
   "outputs": [
    {
     "data": {
      "text/plain": [
       "'Hello!'"
      ]
     },
     "execution_count": 15,
     "metadata": {},
     "output_type": "execute_result"
    }
   ],
   "source": [
    "@null_decorator\n",
    "def greet():\n",
    "    return 'Hello!'\n",
    "\n",
    "greet()"
   ]
  },
  {
   "cell_type": "markdown",
   "metadata": {},
   "source": [
    "Here’s a more complex decorator that converts the result of the decorated function to uppercase letters:"
   ]
  },
  {
   "cell_type": "code",
   "execution_count": 16,
   "metadata": {
    "collapsed": false
   },
   "outputs": [
    {
     "data": {
      "text/plain": [
       "'HELLO!'"
      ]
     },
     "execution_count": 16,
     "metadata": {},
     "output_type": "execute_result"
    }
   ],
   "source": [
    "def uppercase(func):\n",
    "    def wrapper():\n",
    "        original_result = func()\n",
    "        modified_result = original_result.upper()\n",
    "        return modified_result\n",
    "    return wrapper\n",
    "\n",
    "@uppercase\n",
    "def greet():\n",
    "    return 'Hello!'\n",
    "\n",
    "greet()"
   ]
  }
 ],
 "metadata": {
  "kernelspec": {
   "display_name": "Python 3",
   "language": "python",
   "name": "python3"
  },
  "language_info": {
   "codemirror_mode": {
    "name": "ipython",
    "version": 3
   },
   "file_extension": ".py",
   "mimetype": "text/x-python",
   "name": "python",
   "nbconvert_exporter": "python",
   "pygments_lexer": "ipython3",
   "version": "3.6.0"
  }
 },
 "nbformat": 4,
 "nbformat_minor": 2
}
